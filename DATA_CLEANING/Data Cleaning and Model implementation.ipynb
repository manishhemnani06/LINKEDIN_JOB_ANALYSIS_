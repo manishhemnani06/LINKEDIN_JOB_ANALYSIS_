{
 "cells": [
  {
   "cell_type": "markdown",
   "id": "9e6c455a",
   "metadata": {},
   "source": [
    "# 1. Import library"
   ]
  },
  {
   "cell_type": "code",
   "execution_count": 1,
   "id": "6eff0b4a",
   "metadata": {},
   "outputs": [],
   "source": [
    "import pandas as pd\n",
    "import numpy as np\n",
    "import matplotlib.pyplot as plt\n",
    "import seaborn as sns\n",
    "import warnings\n",
    "warnings.filterwarnings(\"ignore\")"
   ]
  },
  {
   "cell_type": "markdown",
   "id": "26846017",
   "metadata": {},
   "source": [
    "# 2. Read csv"
   ]
  },
  {
   "cell_type": "code",
   "execution_count": 2,
   "id": "b644a3bc",
   "metadata": {},
   "outputs": [],
   "source": [
    "df = pd.read_csv('scrapped data.csv')"
   ]
  },
  {
   "cell_type": "code",
   "execution_count": 3,
   "id": "97ae01f1",
   "metadata": {},
   "outputs": [
    {
     "data": {
      "text/html": [
       "<div>\n",
       "<style scoped>\n",
       "    .dataframe tbody tr th:only-of-type {\n",
       "        vertical-align: middle;\n",
       "    }\n",
       "\n",
       "    .dataframe tbody tr th {\n",
       "        vertical-align: top;\n",
       "    }\n",
       "\n",
       "    .dataframe thead th {\n",
       "        text-align: right;\n",
       "    }\n",
       "</style>\n",
       "<table border=\"1\" class=\"dataframe\">\n",
       "  <thead>\n",
       "    <tr style=\"text-align: right;\">\n",
       "      <th></th>\n",
       "      <th>Designation</th>\n",
       "      <th>Name</th>\n",
       "      <th>Location</th>\n",
       "      <th>Level_and_involvement</th>\n",
       "      <th>job_description</th>\n",
       "      <th>Total_applicants</th>\n",
       "      <th>Industry_and_Employee_count</th>\n",
       "      <th>LinkedIn_Followers</th>\n",
       "    </tr>\n",
       "  </thead>\n",
       "  <tbody>\n",
       "    <tr>\n",
       "      <th>0</th>\n",
       "      <td>Project Manager</td>\n",
       "      <td>Wipro</td>\n",
       "      <td>Mumbai, Maharashtra, India</td>\n",
       "      <td>Full-time · Entry level</td>\n",
       "      <td>Role Purpose \\nThe purpose of the role is to ...</td>\n",
       "      <td>NaN</td>\n",
       "      <td>10,001+ employees · IT Services and IT Consulting</td>\n",
       "      <td>6,737,208 followers</td>\n",
       "    </tr>\n",
       "    <tr>\n",
       "      <th>1</th>\n",
       "      <td>Project Manager</td>\n",
       "      <td>Wipro</td>\n",
       "      <td>Delhi, Delhi, India</td>\n",
       "      <td>Full-time · Entry level</td>\n",
       "      <td>Role Purpose \\nThe purpose of the role is to ...</td>\n",
       "      <td>121 applicants</td>\n",
       "      <td>10,001+ employees · IT Services and IT Consulting</td>\n",
       "      <td>6,737,209 followers</td>\n",
       "    </tr>\n",
       "    <tr>\n",
       "      <th>2</th>\n",
       "      <td>Project Manager</td>\n",
       "      <td>Wipro</td>\n",
       "      <td>Delhi, Delhi, India</td>\n",
       "      <td>Full-time · Entry level</td>\n",
       "      <td>Role Purpose \\nThe purpose of the role is to ...</td>\n",
       "      <td>NaN</td>\n",
       "      <td>10,001+ employees · IT Services and IT Consulting</td>\n",
       "      <td>6,737,210 followers</td>\n",
       "    </tr>\n",
       "    <tr>\n",
       "      <th>3</th>\n",
       "      <td>Administrator</td>\n",
       "      <td>Wipro</td>\n",
       "      <td>Hyderabad, Telangana, India</td>\n",
       "      <td>Full-time · Mid-Senior level</td>\n",
       "      <td>Role Purpose \\nThe purpose of the role is to ...</td>\n",
       "      <td>NaN</td>\n",
       "      <td>10,001+ employees · IT Services and IT Consulting</td>\n",
       "      <td>6,737,211 followers</td>\n",
       "    </tr>\n",
       "    <tr>\n",
       "      <th>4</th>\n",
       "      <td>Java Developer</td>\n",
       "      <td>LTIMindtree</td>\n",
       "      <td>Hyderabad, Telangana, India</td>\n",
       "      <td>Full-time · Entry level</td>\n",
       "      <td>This job is sourced from a job board. Learn mo...</td>\n",
       "      <td>22 applicants</td>\n",
       "      <td>10,001+ employees · IT Services and IT Consulting</td>\n",
       "      <td>270,113 followers</td>\n",
       "    </tr>\n",
       "  </tbody>\n",
       "</table>\n",
       "</div>"
      ],
      "text/plain": [
       "       Designation         Name                     Location  \\\n",
       "0  Project Manager        Wipro   Mumbai, Maharashtra, India   \n",
       "1  Project Manager        Wipro          Delhi, Delhi, India   \n",
       "2  Project Manager        Wipro          Delhi, Delhi, India   \n",
       "3    Administrator        Wipro  Hyderabad, Telangana, India   \n",
       "4   Java Developer  LTIMindtree  Hyderabad, Telangana, India   \n",
       "\n",
       "          Level_and_involvement  \\\n",
       "0       Full-time · Entry level   \n",
       "1       Full-time · Entry level   \n",
       "2       Full-time · Entry level   \n",
       "3  Full-time · Mid-Senior level   \n",
       "4       Full-time · Entry level   \n",
       "\n",
       "                                     job_description Total_applicants  \\\n",
       "0   Role Purpose \\nThe purpose of the role is to ...              NaN   \n",
       "1   Role Purpose \\nThe purpose of the role is to ...   121 applicants   \n",
       "2   Role Purpose \\nThe purpose of the role is to ...              NaN   \n",
       "3   Role Purpose \\nThe purpose of the role is to ...              NaN   \n",
       "4  This job is sourced from a job board. Learn mo...    22 applicants   \n",
       "\n",
       "                         Industry_and_Employee_count   LinkedIn_Followers  \n",
       "0  10,001+ employees · IT Services and IT Consulting  6,737,208 followers  \n",
       "1  10,001+ employees · IT Services and IT Consulting  6,737,209 followers  \n",
       "2  10,001+ employees · IT Services and IT Consulting  6,737,210 followers  \n",
       "3  10,001+ employees · IT Services and IT Consulting  6,737,211 followers  \n",
       "4  10,001+ employees · IT Services and IT Consulting    270,113 followers  "
      ]
     },
     "execution_count": 3,
     "metadata": {},
     "output_type": "execute_result"
    }
   ],
   "source": [
    "df.head()"
   ]
  },
  {
   "cell_type": "markdown",
   "id": "9caa7504",
   "metadata": {},
   "source": [
    "# 3. Break down of Level_and_involvement column "
   ]
  },
  {
   "cell_type": "code",
   "execution_count": 4,
   "id": "2c7c78e9",
   "metadata": {},
   "outputs": [],
   "source": [
    "df[['Level','Involvement']] = df['Level_and_involvement'].str.split('·', expand=True)"
   ]
  },
  {
   "cell_type": "code",
   "execution_count": 5,
   "id": "ea2b841e",
   "metadata": {},
   "outputs": [],
   "source": [
    "df.drop('Level_and_involvement', axis=1, inplace=True)"
   ]
  },
  {
   "cell_type": "code",
   "execution_count": 6,
   "id": "36a4c384",
   "metadata": {},
   "outputs": [
    {
     "data": {
      "text/html": [
       "<div>\n",
       "<style scoped>\n",
       "    .dataframe tbody tr th:only-of-type {\n",
       "        vertical-align: middle;\n",
       "    }\n",
       "\n",
       "    .dataframe tbody tr th {\n",
       "        vertical-align: top;\n",
       "    }\n",
       "\n",
       "    .dataframe thead th {\n",
       "        text-align: right;\n",
       "    }\n",
       "</style>\n",
       "<table border=\"1\" class=\"dataframe\">\n",
       "  <thead>\n",
       "    <tr style=\"text-align: right;\">\n",
       "      <th></th>\n",
       "      <th>Designation</th>\n",
       "      <th>Name</th>\n",
       "      <th>Location</th>\n",
       "      <th>job_description</th>\n",
       "      <th>Total_applicants</th>\n",
       "      <th>Industry_and_Employee_count</th>\n",
       "      <th>LinkedIn_Followers</th>\n",
       "      <th>Level</th>\n",
       "      <th>Involvement</th>\n",
       "    </tr>\n",
       "  </thead>\n",
       "  <tbody>\n",
       "    <tr>\n",
       "      <th>0</th>\n",
       "      <td>Project Manager</td>\n",
       "      <td>Wipro</td>\n",
       "      <td>Mumbai, Maharashtra, India</td>\n",
       "      <td>Role Purpose \\nThe purpose of the role is to ...</td>\n",
       "      <td>NaN</td>\n",
       "      <td>10,001+ employees · IT Services and IT Consulting</td>\n",
       "      <td>6,737,208 followers</td>\n",
       "      <td>Full-time</td>\n",
       "      <td>Entry level</td>\n",
       "    </tr>\n",
       "    <tr>\n",
       "      <th>1</th>\n",
       "      <td>Project Manager</td>\n",
       "      <td>Wipro</td>\n",
       "      <td>Delhi, Delhi, India</td>\n",
       "      <td>Role Purpose \\nThe purpose of the role is to ...</td>\n",
       "      <td>121 applicants</td>\n",
       "      <td>10,001+ employees · IT Services and IT Consulting</td>\n",
       "      <td>6,737,209 followers</td>\n",
       "      <td>Full-time</td>\n",
       "      <td>Entry level</td>\n",
       "    </tr>\n",
       "    <tr>\n",
       "      <th>2</th>\n",
       "      <td>Project Manager</td>\n",
       "      <td>Wipro</td>\n",
       "      <td>Delhi, Delhi, India</td>\n",
       "      <td>Role Purpose \\nThe purpose of the role is to ...</td>\n",
       "      <td>NaN</td>\n",
       "      <td>10,001+ employees · IT Services and IT Consulting</td>\n",
       "      <td>6,737,210 followers</td>\n",
       "      <td>Full-time</td>\n",
       "      <td>Entry level</td>\n",
       "    </tr>\n",
       "    <tr>\n",
       "      <th>3</th>\n",
       "      <td>Administrator</td>\n",
       "      <td>Wipro</td>\n",
       "      <td>Hyderabad, Telangana, India</td>\n",
       "      <td>Role Purpose \\nThe purpose of the role is to ...</td>\n",
       "      <td>NaN</td>\n",
       "      <td>10,001+ employees · IT Services and IT Consulting</td>\n",
       "      <td>6,737,211 followers</td>\n",
       "      <td>Full-time</td>\n",
       "      <td>Mid-Senior level</td>\n",
       "    </tr>\n",
       "    <tr>\n",
       "      <th>4</th>\n",
       "      <td>Java Developer</td>\n",
       "      <td>LTIMindtree</td>\n",
       "      <td>Hyderabad, Telangana, India</td>\n",
       "      <td>This job is sourced from a job board. Learn mo...</td>\n",
       "      <td>22 applicants</td>\n",
       "      <td>10,001+ employees · IT Services and IT Consulting</td>\n",
       "      <td>270,113 followers</td>\n",
       "      <td>Full-time</td>\n",
       "      <td>Entry level</td>\n",
       "    </tr>\n",
       "  </tbody>\n",
       "</table>\n",
       "</div>"
      ],
      "text/plain": [
       "       Designation         Name                     Location  \\\n",
       "0  Project Manager        Wipro   Mumbai, Maharashtra, India   \n",
       "1  Project Manager        Wipro          Delhi, Delhi, India   \n",
       "2  Project Manager        Wipro          Delhi, Delhi, India   \n",
       "3    Administrator        Wipro  Hyderabad, Telangana, India   \n",
       "4   Java Developer  LTIMindtree  Hyderabad, Telangana, India   \n",
       "\n",
       "                                     job_description Total_applicants  \\\n",
       "0   Role Purpose \\nThe purpose of the role is to ...              NaN   \n",
       "1   Role Purpose \\nThe purpose of the role is to ...   121 applicants   \n",
       "2   Role Purpose \\nThe purpose of the role is to ...              NaN   \n",
       "3   Role Purpose \\nThe purpose of the role is to ...              NaN   \n",
       "4  This job is sourced from a job board. Learn mo...    22 applicants   \n",
       "\n",
       "                         Industry_and_Employee_count   LinkedIn_Followers  \\\n",
       "0  10,001+ employees · IT Services and IT Consulting  6,737,208 followers   \n",
       "1  10,001+ employees · IT Services and IT Consulting  6,737,209 followers   \n",
       "2  10,001+ employees · IT Services and IT Consulting  6,737,210 followers   \n",
       "3  10,001+ employees · IT Services and IT Consulting  6,737,211 followers   \n",
       "4  10,001+ employees · IT Services and IT Consulting    270,113 followers   \n",
       "\n",
       "        Level        Involvement  \n",
       "0  Full-time         Entry level  \n",
       "1  Full-time         Entry level  \n",
       "2  Full-time         Entry level  \n",
       "3  Full-time    Mid-Senior level  \n",
       "4  Full-time         Entry level  "
      ]
     },
     "execution_count": 6,
     "metadata": {},
     "output_type": "execute_result"
    }
   ],
   "source": [
    "df.head()"
   ]
  },
  {
   "cell_type": "markdown",
   "id": "a4cac7b6",
   "metadata": {},
   "source": [
    "# 4. Remove noise and unwanted text from Total_applicants column"
   ]
  },
  {
   "cell_type": "code",
   "execution_count": 7,
   "id": "2321a9e4",
   "metadata": {},
   "outputs": [],
   "source": [
    "df['Total_applicants'] = df['Total_applicants'].str.replace(' applicants', '').str.replace(' applicant', '').fillna(0).astype(int)"
   ]
  },
  {
   "cell_type": "code",
   "execution_count": 8,
   "id": "e44f5ec4",
   "metadata": {},
   "outputs": [
    {
     "data": {
      "text/html": [
       "<div>\n",
       "<style scoped>\n",
       "    .dataframe tbody tr th:only-of-type {\n",
       "        vertical-align: middle;\n",
       "    }\n",
       "\n",
       "    .dataframe tbody tr th {\n",
       "        vertical-align: top;\n",
       "    }\n",
       "\n",
       "    .dataframe thead th {\n",
       "        text-align: right;\n",
       "    }\n",
       "</style>\n",
       "<table border=\"1\" class=\"dataframe\">\n",
       "  <thead>\n",
       "    <tr style=\"text-align: right;\">\n",
       "      <th></th>\n",
       "      <th>Designation</th>\n",
       "      <th>Name</th>\n",
       "      <th>Location</th>\n",
       "      <th>job_description</th>\n",
       "      <th>Total_applicants</th>\n",
       "      <th>Industry_and_Employee_count</th>\n",
       "      <th>LinkedIn_Followers</th>\n",
       "      <th>Level</th>\n",
       "      <th>Involvement</th>\n",
       "    </tr>\n",
       "  </thead>\n",
       "  <tbody>\n",
       "    <tr>\n",
       "      <th>0</th>\n",
       "      <td>Project Manager</td>\n",
       "      <td>Wipro</td>\n",
       "      <td>Mumbai, Maharashtra, India</td>\n",
       "      <td>Role Purpose \\nThe purpose of the role is to ...</td>\n",
       "      <td>0</td>\n",
       "      <td>10,001+ employees · IT Services and IT Consulting</td>\n",
       "      <td>6,737,208 followers</td>\n",
       "      <td>Full-time</td>\n",
       "      <td>Entry level</td>\n",
       "    </tr>\n",
       "    <tr>\n",
       "      <th>1</th>\n",
       "      <td>Project Manager</td>\n",
       "      <td>Wipro</td>\n",
       "      <td>Delhi, Delhi, India</td>\n",
       "      <td>Role Purpose \\nThe purpose of the role is to ...</td>\n",
       "      <td>121</td>\n",
       "      <td>10,001+ employees · IT Services and IT Consulting</td>\n",
       "      <td>6,737,209 followers</td>\n",
       "      <td>Full-time</td>\n",
       "      <td>Entry level</td>\n",
       "    </tr>\n",
       "    <tr>\n",
       "      <th>2</th>\n",
       "      <td>Project Manager</td>\n",
       "      <td>Wipro</td>\n",
       "      <td>Delhi, Delhi, India</td>\n",
       "      <td>Role Purpose \\nThe purpose of the role is to ...</td>\n",
       "      <td>0</td>\n",
       "      <td>10,001+ employees · IT Services and IT Consulting</td>\n",
       "      <td>6,737,210 followers</td>\n",
       "      <td>Full-time</td>\n",
       "      <td>Entry level</td>\n",
       "    </tr>\n",
       "    <tr>\n",
       "      <th>3</th>\n",
       "      <td>Administrator</td>\n",
       "      <td>Wipro</td>\n",
       "      <td>Hyderabad, Telangana, India</td>\n",
       "      <td>Role Purpose \\nThe purpose of the role is to ...</td>\n",
       "      <td>0</td>\n",
       "      <td>10,001+ employees · IT Services and IT Consulting</td>\n",
       "      <td>6,737,211 followers</td>\n",
       "      <td>Full-time</td>\n",
       "      <td>Mid-Senior level</td>\n",
       "    </tr>\n",
       "    <tr>\n",
       "      <th>4</th>\n",
       "      <td>Java Developer</td>\n",
       "      <td>LTIMindtree</td>\n",
       "      <td>Hyderabad, Telangana, India</td>\n",
       "      <td>This job is sourced from a job board. Learn mo...</td>\n",
       "      <td>22</td>\n",
       "      <td>10,001+ employees · IT Services and IT Consulting</td>\n",
       "      <td>270,113 followers</td>\n",
       "      <td>Full-time</td>\n",
       "      <td>Entry level</td>\n",
       "    </tr>\n",
       "  </tbody>\n",
       "</table>\n",
       "</div>"
      ],
      "text/plain": [
       "       Designation         Name                     Location  \\\n",
       "0  Project Manager        Wipro   Mumbai, Maharashtra, India   \n",
       "1  Project Manager        Wipro          Delhi, Delhi, India   \n",
       "2  Project Manager        Wipro          Delhi, Delhi, India   \n",
       "3    Administrator        Wipro  Hyderabad, Telangana, India   \n",
       "4   Java Developer  LTIMindtree  Hyderabad, Telangana, India   \n",
       "\n",
       "                                     job_description  Total_applicants  \\\n",
       "0   Role Purpose \\nThe purpose of the role is to ...                 0   \n",
       "1   Role Purpose \\nThe purpose of the role is to ...               121   \n",
       "2   Role Purpose \\nThe purpose of the role is to ...                 0   \n",
       "3   Role Purpose \\nThe purpose of the role is to ...                 0   \n",
       "4  This job is sourced from a job board. Learn mo...                22   \n",
       "\n",
       "                         Industry_and_Employee_count   LinkedIn_Followers  \\\n",
       "0  10,001+ employees · IT Services and IT Consulting  6,737,208 followers   \n",
       "1  10,001+ employees · IT Services and IT Consulting  6,737,209 followers   \n",
       "2  10,001+ employees · IT Services and IT Consulting  6,737,210 followers   \n",
       "3  10,001+ employees · IT Services and IT Consulting  6,737,211 followers   \n",
       "4  10,001+ employees · IT Services and IT Consulting    270,113 followers   \n",
       "\n",
       "        Level        Involvement  \n",
       "0  Full-time         Entry level  \n",
       "1  Full-time         Entry level  \n",
       "2  Full-time         Entry level  \n",
       "3  Full-time    Mid-Senior level  \n",
       "4  Full-time         Entry level  "
      ]
     },
     "execution_count": 8,
     "metadata": {},
     "output_type": "execute_result"
    }
   ],
   "source": [
    "df.head()"
   ]
  },
  {
   "cell_type": "markdown",
   "id": "f227a9c3",
   "metadata": {},
   "source": [
    "# 5. Break down of Industry_and_Employee_count column"
   ]
  },
  {
   "cell_type": "code",
   "execution_count": 9,
   "id": "a872701a",
   "metadata": {},
   "outputs": [],
   "source": [
    "df[['Employee_count','Industry']] = df['Industry_and_Employee_count'].str.split('·', expand=True)"
   ]
  },
  {
   "cell_type": "code",
   "execution_count": 10,
   "id": "884629f2",
   "metadata": {},
   "outputs": [],
   "source": [
    "df.drop('Industry_and_Employee_count', axis=1, inplace=True)"
   ]
  },
  {
   "cell_type": "code",
   "execution_count": 11,
   "id": "dfcfa9e9",
   "metadata": {},
   "outputs": [
    {
     "data": {
      "text/html": [
       "<div>\n",
       "<style scoped>\n",
       "    .dataframe tbody tr th:only-of-type {\n",
       "        vertical-align: middle;\n",
       "    }\n",
       "\n",
       "    .dataframe tbody tr th {\n",
       "        vertical-align: top;\n",
       "    }\n",
       "\n",
       "    .dataframe thead th {\n",
       "        text-align: right;\n",
       "    }\n",
       "</style>\n",
       "<table border=\"1\" class=\"dataframe\">\n",
       "  <thead>\n",
       "    <tr style=\"text-align: right;\">\n",
       "      <th></th>\n",
       "      <th>Designation</th>\n",
       "      <th>Name</th>\n",
       "      <th>Location</th>\n",
       "      <th>job_description</th>\n",
       "      <th>Total_applicants</th>\n",
       "      <th>LinkedIn_Followers</th>\n",
       "      <th>Level</th>\n",
       "      <th>Involvement</th>\n",
       "      <th>Employee_count</th>\n",
       "      <th>Industry</th>\n",
       "    </tr>\n",
       "  </thead>\n",
       "  <tbody>\n",
       "    <tr>\n",
       "      <th>0</th>\n",
       "      <td>Project Manager</td>\n",
       "      <td>Wipro</td>\n",
       "      <td>Mumbai, Maharashtra, India</td>\n",
       "      <td>Role Purpose \\nThe purpose of the role is to ...</td>\n",
       "      <td>0</td>\n",
       "      <td>6,737,208 followers</td>\n",
       "      <td>Full-time</td>\n",
       "      <td>Entry level</td>\n",
       "      <td>10,001+ employees</td>\n",
       "      <td>IT Services and IT Consulting</td>\n",
       "    </tr>\n",
       "    <tr>\n",
       "      <th>1</th>\n",
       "      <td>Project Manager</td>\n",
       "      <td>Wipro</td>\n",
       "      <td>Delhi, Delhi, India</td>\n",
       "      <td>Role Purpose \\nThe purpose of the role is to ...</td>\n",
       "      <td>121</td>\n",
       "      <td>6,737,209 followers</td>\n",
       "      <td>Full-time</td>\n",
       "      <td>Entry level</td>\n",
       "      <td>10,001+ employees</td>\n",
       "      <td>IT Services and IT Consulting</td>\n",
       "    </tr>\n",
       "    <tr>\n",
       "      <th>2</th>\n",
       "      <td>Project Manager</td>\n",
       "      <td>Wipro</td>\n",
       "      <td>Delhi, Delhi, India</td>\n",
       "      <td>Role Purpose \\nThe purpose of the role is to ...</td>\n",
       "      <td>0</td>\n",
       "      <td>6,737,210 followers</td>\n",
       "      <td>Full-time</td>\n",
       "      <td>Entry level</td>\n",
       "      <td>10,001+ employees</td>\n",
       "      <td>IT Services and IT Consulting</td>\n",
       "    </tr>\n",
       "    <tr>\n",
       "      <th>3</th>\n",
       "      <td>Administrator</td>\n",
       "      <td>Wipro</td>\n",
       "      <td>Hyderabad, Telangana, India</td>\n",
       "      <td>Role Purpose \\nThe purpose of the role is to ...</td>\n",
       "      <td>0</td>\n",
       "      <td>6,737,211 followers</td>\n",
       "      <td>Full-time</td>\n",
       "      <td>Mid-Senior level</td>\n",
       "      <td>10,001+ employees</td>\n",
       "      <td>IT Services and IT Consulting</td>\n",
       "    </tr>\n",
       "    <tr>\n",
       "      <th>4</th>\n",
       "      <td>Java Developer</td>\n",
       "      <td>LTIMindtree</td>\n",
       "      <td>Hyderabad, Telangana, India</td>\n",
       "      <td>This job is sourced from a job board. Learn mo...</td>\n",
       "      <td>22</td>\n",
       "      <td>270,113 followers</td>\n",
       "      <td>Full-time</td>\n",
       "      <td>Entry level</td>\n",
       "      <td>10,001+ employees</td>\n",
       "      <td>IT Services and IT Consulting</td>\n",
       "    </tr>\n",
       "  </tbody>\n",
       "</table>\n",
       "</div>"
      ],
      "text/plain": [
       "       Designation         Name                     Location  \\\n",
       "0  Project Manager        Wipro   Mumbai, Maharashtra, India   \n",
       "1  Project Manager        Wipro          Delhi, Delhi, India   \n",
       "2  Project Manager        Wipro          Delhi, Delhi, India   \n",
       "3    Administrator        Wipro  Hyderabad, Telangana, India   \n",
       "4   Java Developer  LTIMindtree  Hyderabad, Telangana, India   \n",
       "\n",
       "                                     job_description  Total_applicants  \\\n",
       "0   Role Purpose \\nThe purpose of the role is to ...                 0   \n",
       "1   Role Purpose \\nThe purpose of the role is to ...               121   \n",
       "2   Role Purpose \\nThe purpose of the role is to ...                 0   \n",
       "3   Role Purpose \\nThe purpose of the role is to ...                 0   \n",
       "4  This job is sourced from a job board. Learn mo...                22   \n",
       "\n",
       "    LinkedIn_Followers       Level        Involvement      Employee_count  \\\n",
       "0  6,737,208 followers  Full-time         Entry level  10,001+ employees    \n",
       "1  6,737,209 followers  Full-time         Entry level  10,001+ employees    \n",
       "2  6,737,210 followers  Full-time         Entry level  10,001+ employees    \n",
       "3  6,737,211 followers  Full-time    Mid-Senior level  10,001+ employees    \n",
       "4    270,113 followers  Full-time         Entry level  10,001+ employees    \n",
       "\n",
       "                         Industry  \n",
       "0   IT Services and IT Consulting  \n",
       "1   IT Services and IT Consulting  \n",
       "2   IT Services and IT Consulting  \n",
       "3   IT Services and IT Consulting  \n",
       "4   IT Services and IT Consulting  "
      ]
     },
     "execution_count": 11,
     "metadata": {},
     "output_type": "execute_result"
    }
   ],
   "source": [
    "df.head()"
   ]
  },
  {
   "cell_type": "markdown",
   "id": "7b5fcacb",
   "metadata": {},
   "source": [
    "# 6. Remove noise and unwanted text from Employee_count column"
   ]
  },
  {
   "cell_type": "code",
   "execution_count": 12,
   "id": "184234a0",
   "metadata": {},
   "outputs": [],
   "source": [
    "df['Employee_count'] = df['Employee_count'].str.replace(',', '').str.replace(' employees', '').str.replace('+', '').str[-6:].str.replace('-', '').astype(int)"
   ]
  },
  {
   "cell_type": "code",
   "execution_count": 13,
   "id": "6349d3ec",
   "metadata": {},
   "outputs": [
    {
     "data": {
      "text/html": [
       "<div>\n",
       "<style scoped>\n",
       "    .dataframe tbody tr th:only-of-type {\n",
       "        vertical-align: middle;\n",
       "    }\n",
       "\n",
       "    .dataframe tbody tr th {\n",
       "        vertical-align: top;\n",
       "    }\n",
       "\n",
       "    .dataframe thead th {\n",
       "        text-align: right;\n",
       "    }\n",
       "</style>\n",
       "<table border=\"1\" class=\"dataframe\">\n",
       "  <thead>\n",
       "    <tr style=\"text-align: right;\">\n",
       "      <th></th>\n",
       "      <th>Designation</th>\n",
       "      <th>Name</th>\n",
       "      <th>Location</th>\n",
       "      <th>job_description</th>\n",
       "      <th>Total_applicants</th>\n",
       "      <th>LinkedIn_Followers</th>\n",
       "      <th>Level</th>\n",
       "      <th>Involvement</th>\n",
       "      <th>Employee_count</th>\n",
       "      <th>Industry</th>\n",
       "    </tr>\n",
       "  </thead>\n",
       "  <tbody>\n",
       "    <tr>\n",
       "      <th>0</th>\n",
       "      <td>Project Manager</td>\n",
       "      <td>Wipro</td>\n",
       "      <td>Mumbai, Maharashtra, India</td>\n",
       "      <td>Role Purpose \\nThe purpose of the role is to ...</td>\n",
       "      <td>0</td>\n",
       "      <td>6,737,208 followers</td>\n",
       "      <td>Full-time</td>\n",
       "      <td>Entry level</td>\n",
       "      <td>10001</td>\n",
       "      <td>IT Services and IT Consulting</td>\n",
       "    </tr>\n",
       "    <tr>\n",
       "      <th>1</th>\n",
       "      <td>Project Manager</td>\n",
       "      <td>Wipro</td>\n",
       "      <td>Delhi, Delhi, India</td>\n",
       "      <td>Role Purpose \\nThe purpose of the role is to ...</td>\n",
       "      <td>121</td>\n",
       "      <td>6,737,209 followers</td>\n",
       "      <td>Full-time</td>\n",
       "      <td>Entry level</td>\n",
       "      <td>10001</td>\n",
       "      <td>IT Services and IT Consulting</td>\n",
       "    </tr>\n",
       "    <tr>\n",
       "      <th>2</th>\n",
       "      <td>Project Manager</td>\n",
       "      <td>Wipro</td>\n",
       "      <td>Delhi, Delhi, India</td>\n",
       "      <td>Role Purpose \\nThe purpose of the role is to ...</td>\n",
       "      <td>0</td>\n",
       "      <td>6,737,210 followers</td>\n",
       "      <td>Full-time</td>\n",
       "      <td>Entry level</td>\n",
       "      <td>10001</td>\n",
       "      <td>IT Services and IT Consulting</td>\n",
       "    </tr>\n",
       "    <tr>\n",
       "      <th>3</th>\n",
       "      <td>Administrator</td>\n",
       "      <td>Wipro</td>\n",
       "      <td>Hyderabad, Telangana, India</td>\n",
       "      <td>Role Purpose \\nThe purpose of the role is to ...</td>\n",
       "      <td>0</td>\n",
       "      <td>6,737,211 followers</td>\n",
       "      <td>Full-time</td>\n",
       "      <td>Mid-Senior level</td>\n",
       "      <td>10001</td>\n",
       "      <td>IT Services and IT Consulting</td>\n",
       "    </tr>\n",
       "    <tr>\n",
       "      <th>4</th>\n",
       "      <td>Java Developer</td>\n",
       "      <td>LTIMindtree</td>\n",
       "      <td>Hyderabad, Telangana, India</td>\n",
       "      <td>This job is sourced from a job board. Learn mo...</td>\n",
       "      <td>22</td>\n",
       "      <td>270,113 followers</td>\n",
       "      <td>Full-time</td>\n",
       "      <td>Entry level</td>\n",
       "      <td>10001</td>\n",
       "      <td>IT Services and IT Consulting</td>\n",
       "    </tr>\n",
       "  </tbody>\n",
       "</table>\n",
       "</div>"
      ],
      "text/plain": [
       "       Designation         Name                     Location  \\\n",
       "0  Project Manager        Wipro   Mumbai, Maharashtra, India   \n",
       "1  Project Manager        Wipro          Delhi, Delhi, India   \n",
       "2  Project Manager        Wipro          Delhi, Delhi, India   \n",
       "3    Administrator        Wipro  Hyderabad, Telangana, India   \n",
       "4   Java Developer  LTIMindtree  Hyderabad, Telangana, India   \n",
       "\n",
       "                                     job_description  Total_applicants  \\\n",
       "0   Role Purpose \\nThe purpose of the role is to ...                 0   \n",
       "1   Role Purpose \\nThe purpose of the role is to ...               121   \n",
       "2   Role Purpose \\nThe purpose of the role is to ...                 0   \n",
       "3   Role Purpose \\nThe purpose of the role is to ...                 0   \n",
       "4  This job is sourced from a job board. Learn mo...                22   \n",
       "\n",
       "    LinkedIn_Followers       Level        Involvement  Employee_count  \\\n",
       "0  6,737,208 followers  Full-time         Entry level           10001   \n",
       "1  6,737,209 followers  Full-time         Entry level           10001   \n",
       "2  6,737,210 followers  Full-time         Entry level           10001   \n",
       "3  6,737,211 followers  Full-time    Mid-Senior level           10001   \n",
       "4    270,113 followers  Full-time         Entry level           10001   \n",
       "\n",
       "                         Industry  \n",
       "0   IT Services and IT Consulting  \n",
       "1   IT Services and IT Consulting  \n",
       "2   IT Services and IT Consulting  \n",
       "3   IT Services and IT Consulting  \n",
       "4   IT Services and IT Consulting  "
      ]
     },
     "execution_count": 13,
     "metadata": {},
     "output_type": "execute_result"
    }
   ],
   "source": [
    "df.head()"
   ]
  },
  {
   "cell_type": "markdown",
   "id": "956a7dda",
   "metadata": {},
   "source": [
    "# 7. Remove noise and unwanted text from LinkedIn_Followers column"
   ]
  },
  {
   "cell_type": "code",
   "execution_count": 14,
   "id": "f8178a60",
   "metadata": {},
   "outputs": [],
   "source": [
    "df['LinkedIn_Followers'] = df['LinkedIn_Followers'].str.replace(' followers', '').str.replace(',', '')"
   ]
  },
  {
   "cell_type": "code",
   "execution_count": 15,
   "id": "698c4bf3",
   "metadata": {},
   "outputs": [
    {
     "data": {
      "text/html": [
       "<div>\n",
       "<style scoped>\n",
       "    .dataframe tbody tr th:only-of-type {\n",
       "        vertical-align: middle;\n",
       "    }\n",
       "\n",
       "    .dataframe tbody tr th {\n",
       "        vertical-align: top;\n",
       "    }\n",
       "\n",
       "    .dataframe thead th {\n",
       "        text-align: right;\n",
       "    }\n",
       "</style>\n",
       "<table border=\"1\" class=\"dataframe\">\n",
       "  <thead>\n",
       "    <tr style=\"text-align: right;\">\n",
       "      <th></th>\n",
       "      <th>Designation</th>\n",
       "      <th>Name</th>\n",
       "      <th>Location</th>\n",
       "      <th>job_description</th>\n",
       "      <th>Total_applicants</th>\n",
       "      <th>LinkedIn_Followers</th>\n",
       "      <th>Level</th>\n",
       "      <th>Involvement</th>\n",
       "      <th>Employee_count</th>\n",
       "      <th>Industry</th>\n",
       "    </tr>\n",
       "  </thead>\n",
       "  <tbody>\n",
       "    <tr>\n",
       "      <th>0</th>\n",
       "      <td>Project Manager</td>\n",
       "      <td>Wipro</td>\n",
       "      <td>Mumbai, Maharashtra, India</td>\n",
       "      <td>Role Purpose \\nThe purpose of the role is to ...</td>\n",
       "      <td>0</td>\n",
       "      <td>6737208</td>\n",
       "      <td>Full-time</td>\n",
       "      <td>Entry level</td>\n",
       "      <td>10001</td>\n",
       "      <td>IT Services and IT Consulting</td>\n",
       "    </tr>\n",
       "    <tr>\n",
       "      <th>1</th>\n",
       "      <td>Project Manager</td>\n",
       "      <td>Wipro</td>\n",
       "      <td>Delhi, Delhi, India</td>\n",
       "      <td>Role Purpose \\nThe purpose of the role is to ...</td>\n",
       "      <td>121</td>\n",
       "      <td>6737209</td>\n",
       "      <td>Full-time</td>\n",
       "      <td>Entry level</td>\n",
       "      <td>10001</td>\n",
       "      <td>IT Services and IT Consulting</td>\n",
       "    </tr>\n",
       "    <tr>\n",
       "      <th>2</th>\n",
       "      <td>Project Manager</td>\n",
       "      <td>Wipro</td>\n",
       "      <td>Delhi, Delhi, India</td>\n",
       "      <td>Role Purpose \\nThe purpose of the role is to ...</td>\n",
       "      <td>0</td>\n",
       "      <td>6737210</td>\n",
       "      <td>Full-time</td>\n",
       "      <td>Entry level</td>\n",
       "      <td>10001</td>\n",
       "      <td>IT Services and IT Consulting</td>\n",
       "    </tr>\n",
       "    <tr>\n",
       "      <th>3</th>\n",
       "      <td>Administrator</td>\n",
       "      <td>Wipro</td>\n",
       "      <td>Hyderabad, Telangana, India</td>\n",
       "      <td>Role Purpose \\nThe purpose of the role is to ...</td>\n",
       "      <td>0</td>\n",
       "      <td>6737211</td>\n",
       "      <td>Full-time</td>\n",
       "      <td>Mid-Senior level</td>\n",
       "      <td>10001</td>\n",
       "      <td>IT Services and IT Consulting</td>\n",
       "    </tr>\n",
       "    <tr>\n",
       "      <th>4</th>\n",
       "      <td>Java Developer</td>\n",
       "      <td>LTIMindtree</td>\n",
       "      <td>Hyderabad, Telangana, India</td>\n",
       "      <td>This job is sourced from a job board. Learn mo...</td>\n",
       "      <td>22</td>\n",
       "      <td>270113</td>\n",
       "      <td>Full-time</td>\n",
       "      <td>Entry level</td>\n",
       "      <td>10001</td>\n",
       "      <td>IT Services and IT Consulting</td>\n",
       "    </tr>\n",
       "  </tbody>\n",
       "</table>\n",
       "</div>"
      ],
      "text/plain": [
       "       Designation         Name                     Location  \\\n",
       "0  Project Manager        Wipro   Mumbai, Maharashtra, India   \n",
       "1  Project Manager        Wipro          Delhi, Delhi, India   \n",
       "2  Project Manager        Wipro          Delhi, Delhi, India   \n",
       "3    Administrator        Wipro  Hyderabad, Telangana, India   \n",
       "4   Java Developer  LTIMindtree  Hyderabad, Telangana, India   \n",
       "\n",
       "                                     job_description  Total_applicants  \\\n",
       "0   Role Purpose \\nThe purpose of the role is to ...                 0   \n",
       "1   Role Purpose \\nThe purpose of the role is to ...               121   \n",
       "2   Role Purpose \\nThe purpose of the role is to ...                 0   \n",
       "3   Role Purpose \\nThe purpose of the role is to ...                 0   \n",
       "4  This job is sourced from a job board. Learn mo...                22   \n",
       "\n",
       "  LinkedIn_Followers       Level        Involvement  Employee_count  \\\n",
       "0            6737208  Full-time         Entry level           10001   \n",
       "1            6737209  Full-time         Entry level           10001   \n",
       "2            6737210  Full-time         Entry level           10001   \n",
       "3            6737211  Full-time    Mid-Senior level           10001   \n",
       "4             270113  Full-time         Entry level           10001   \n",
       "\n",
       "                         Industry  \n",
       "0   IT Services and IT Consulting  \n",
       "1   IT Services and IT Consulting  \n",
       "2   IT Services and IT Consulting  \n",
       "3   IT Services and IT Consulting  \n",
       "4   IT Services and IT Consulting  "
      ]
     },
     "execution_count": 15,
     "metadata": {},
     "output_type": "execute_result"
    }
   ],
   "source": [
    "df.head()"
   ]
  },
  {
   "cell_type": "markdown",
   "id": "bc74b707",
   "metadata": {},
   "source": [
    "# 8. Fixing the linkedin followers column for each company"
   ]
  },
  {
   "cell_type": "code",
   "execution_count": 16,
   "id": "1f7cdcb2",
   "metadata": {},
   "outputs": [],
   "source": [
    "data = df[['Name','LinkedIn_Followers']].groupby('Name').median().reset_index()\n",
    "dict_data = dict(zip(data['Name'], data['LinkedIn_Followers']))\n",
    "\n",
    "for i in dict_data:\n",
    "    df.loc[df['Name'] == i, 'LinkedIn_Followers'] = int(dict_data[i])"
   ]
  },
  {
   "cell_type": "markdown",
   "id": "af4e417d",
   "metadata": {},
   "source": [
    "# 11. Break down of Location column"
   ]
  },
  {
   "cell_type": "code",
   "execution_count": 17,
   "id": "1bd9e00f",
   "metadata": {},
   "outputs": [],
   "source": [
    "df['Location'] = df['Location'].str.split(\",\", expand=True)[1]"
   ]
  },
  {
   "cell_type": "code",
   "execution_count": 18,
   "id": "83a05a38",
   "metadata": {},
   "outputs": [
    {
     "data": {
      "text/html": [
       "<div>\n",
       "<style scoped>\n",
       "    .dataframe tbody tr th:only-of-type {\n",
       "        vertical-align: middle;\n",
       "    }\n",
       "\n",
       "    .dataframe tbody tr th {\n",
       "        vertical-align: top;\n",
       "    }\n",
       "\n",
       "    .dataframe thead th {\n",
       "        text-align: right;\n",
       "    }\n",
       "</style>\n",
       "<table border=\"1\" class=\"dataframe\">\n",
       "  <thead>\n",
       "    <tr style=\"text-align: right;\">\n",
       "      <th></th>\n",
       "      <th>Designation</th>\n",
       "      <th>Name</th>\n",
       "      <th>Location</th>\n",
       "      <th>job_description</th>\n",
       "      <th>Total_applicants</th>\n",
       "      <th>LinkedIn_Followers</th>\n",
       "      <th>Level</th>\n",
       "      <th>Involvement</th>\n",
       "      <th>Employee_count</th>\n",
       "      <th>Industry</th>\n",
       "    </tr>\n",
       "  </thead>\n",
       "  <tbody>\n",
       "    <tr>\n",
       "      <th>0</th>\n",
       "      <td>Project Manager</td>\n",
       "      <td>Wipro</td>\n",
       "      <td>Maharashtra</td>\n",
       "      <td>Role Purpose \\nThe purpose of the role is to ...</td>\n",
       "      <td>0</td>\n",
       "      <td>6737300</td>\n",
       "      <td>Full-time</td>\n",
       "      <td>Entry level</td>\n",
       "      <td>10001</td>\n",
       "      <td>IT Services and IT Consulting</td>\n",
       "    </tr>\n",
       "    <tr>\n",
       "      <th>1</th>\n",
       "      <td>Project Manager</td>\n",
       "      <td>Wipro</td>\n",
       "      <td>Delhi</td>\n",
       "      <td>Role Purpose \\nThe purpose of the role is to ...</td>\n",
       "      <td>121</td>\n",
       "      <td>6737300</td>\n",
       "      <td>Full-time</td>\n",
       "      <td>Entry level</td>\n",
       "      <td>10001</td>\n",
       "      <td>IT Services and IT Consulting</td>\n",
       "    </tr>\n",
       "    <tr>\n",
       "      <th>2</th>\n",
       "      <td>Project Manager</td>\n",
       "      <td>Wipro</td>\n",
       "      <td>Delhi</td>\n",
       "      <td>Role Purpose \\nThe purpose of the role is to ...</td>\n",
       "      <td>0</td>\n",
       "      <td>6737300</td>\n",
       "      <td>Full-time</td>\n",
       "      <td>Entry level</td>\n",
       "      <td>10001</td>\n",
       "      <td>IT Services and IT Consulting</td>\n",
       "    </tr>\n",
       "    <tr>\n",
       "      <th>3</th>\n",
       "      <td>Administrator</td>\n",
       "      <td>Wipro</td>\n",
       "      <td>Telangana</td>\n",
       "      <td>Role Purpose \\nThe purpose of the role is to ...</td>\n",
       "      <td>0</td>\n",
       "      <td>6737300</td>\n",
       "      <td>Full-time</td>\n",
       "      <td>Mid-Senior level</td>\n",
       "      <td>10001</td>\n",
       "      <td>IT Services and IT Consulting</td>\n",
       "    </tr>\n",
       "    <tr>\n",
       "      <th>4</th>\n",
       "      <td>Java Developer</td>\n",
       "      <td>LTIMindtree</td>\n",
       "      <td>Telangana</td>\n",
       "      <td>This job is sourced from a job board. Learn mo...</td>\n",
       "      <td>22</td>\n",
       "      <td>270280</td>\n",
       "      <td>Full-time</td>\n",
       "      <td>Entry level</td>\n",
       "      <td>10001</td>\n",
       "      <td>IT Services and IT Consulting</td>\n",
       "    </tr>\n",
       "  </tbody>\n",
       "</table>\n",
       "</div>"
      ],
      "text/plain": [
       "       Designation         Name      Location  \\\n",
       "0  Project Manager        Wipro   Maharashtra   \n",
       "1  Project Manager        Wipro         Delhi   \n",
       "2  Project Manager        Wipro         Delhi   \n",
       "3    Administrator        Wipro     Telangana   \n",
       "4   Java Developer  LTIMindtree     Telangana   \n",
       "\n",
       "                                     job_description  Total_applicants  \\\n",
       "0   Role Purpose \\nThe purpose of the role is to ...                 0   \n",
       "1   Role Purpose \\nThe purpose of the role is to ...               121   \n",
       "2   Role Purpose \\nThe purpose of the role is to ...                 0   \n",
       "3   Role Purpose \\nThe purpose of the role is to ...                 0   \n",
       "4  This job is sourced from a job board. Learn mo...                22   \n",
       "\n",
       "  LinkedIn_Followers       Level        Involvement  Employee_count  \\\n",
       "0            6737300  Full-time         Entry level           10001   \n",
       "1            6737300  Full-time         Entry level           10001   \n",
       "2            6737300  Full-time         Entry level           10001   \n",
       "3            6737300  Full-time    Mid-Senior level           10001   \n",
       "4             270280  Full-time         Entry level           10001   \n",
       "\n",
       "                         Industry  \n",
       "0   IT Services and IT Consulting  \n",
       "1   IT Services and IT Consulting  \n",
       "2   IT Services and IT Consulting  \n",
       "3   IT Services and IT Consulting  \n",
       "4   IT Services and IT Consulting  "
      ]
     },
     "execution_count": 18,
     "metadata": {},
     "output_type": "execute_result"
    }
   ],
   "source": [
    "df.head()"
   ]
  },
  {
   "cell_type": "markdown",
   "id": "bef18bac",
   "metadata": {},
   "source": [
    "# 12. Check for missing values"
   ]
  },
  {
   "cell_type": "code",
   "execution_count": 19,
   "id": "b4cdaa83",
   "metadata": {},
   "outputs": [
    {
     "data": {
      "text/plain": [
       "Designation            0\n",
       "Name                   0\n",
       "Location              83\n",
       "job_description        0\n",
       "Total_applicants       0\n",
       "LinkedIn_Followers     0\n",
       "Level                  0\n",
       "Involvement            0\n",
       "Employee_count         0\n",
       "Industry               0\n",
       "dtype: int64"
      ]
     },
     "execution_count": 19,
     "metadata": {},
     "output_type": "execute_result"
    }
   ],
   "source": [
    "df.isnull().sum()"
   ]
  },
  {
   "cell_type": "markdown",
   "id": "cf9923c3",
   "metadata": {},
   "source": [
    "# 13. Dropping rows with missing values"
   ]
  },
  {
   "cell_type": "code",
   "execution_count": 20,
   "id": "e9119a69",
   "metadata": {},
   "outputs": [],
   "source": [
    "df.dropna(inplace=True)"
   ]
  },
  {
   "cell_type": "code",
   "execution_count": 21,
   "id": "c6d12d68",
   "metadata": {},
   "outputs": [],
   "source": [
    "df.reset_index(inplace=True, drop=True)"
   ]
  },
  {
   "cell_type": "markdown",
   "id": "f64d60b4",
   "metadata": {},
   "source": [
    "# 14. Collect some most common technical skills"
   ]
  },
  {
   "cell_type": "code",
   "execution_count": 22,
   "id": "1229a53c",
   "metadata": {},
   "outputs": [],
   "source": [
    "technical_skills = ['PYTHON', 'C++', 'JAVA', 'HADOOP', 'SCALA', \n",
    "                    'FLASK', 'PANDAS', 'SPARK', 'NUMPY', \n",
    "                    'PHP', 'SQL', 'MYSQL', 'CSS', 'MONGODB', 'NLTK', 'KERAS', \n",
    "                    'PYTORCH', 'TENSORFLOW', 'LINUX', 'RUBY', 'JAVASCRIPT', \n",
    "                    'DJANGO', 'REACT', 'REACTJS', 'AI', 'UI', 'TABLEAU', \n",
    "                    'NODEJS', 'EXCEL', 'POWER BI', 'SELENIUM', 'HTML', 'ML']"
   ]
  },
  {
   "cell_type": "markdown",
   "id": "e88add41",
   "metadata": {},
   "source": [
    "# 15. Add these whole technical skills to the dataframe and fill with zeros"
   ]
  },
  {
   "cell_type": "code",
   "execution_count": 23,
   "id": "9102b087",
   "metadata": {},
   "outputs": [],
   "source": [
    "df[technical_skills] = 0"
   ]
  },
  {
   "cell_type": "markdown",
   "id": "2a614d58",
   "metadata": {},
   "source": [
    "# 16. Find out the skills from job description column"
   ]
  },
  {
   "cell_type": "code",
   "execution_count": 24,
   "id": "75dae41a",
   "metadata": {},
   "outputs": [],
   "source": [
    "skills = df['job_description'].str.upper().apply(lambda x: [i.upper() for i in technical_skills if i in x])"
   ]
  },
  {
   "cell_type": "markdown",
   "id": "c2f2edb1",
   "metadata": {},
   "source": [
    "# 17. Create skill flag with one where perticular skills are present"
   ]
  },
  {
   "cell_type": "code",
   "execution_count": 25,
   "id": "8abd2542",
   "metadata": {},
   "outputs": [],
   "source": [
    "for index,skill_set in enumerate(skills):\n",
    "    for x in skill_set:\n",
    "        df[x][index] = 1        "
   ]
  },
  {
   "cell_type": "markdown",
   "id": "0c7fbf7a",
   "metadata": {},
   "source": [
    "# 18. Drop the constent columns"
   ]
  },
  {
   "cell_type": "code",
   "execution_count": 26,
   "id": "17e33fc3",
   "metadata": {},
   "outputs": [],
   "source": [
    "for i in technical_skills:\n",
    "    if len(df[i].unique()) == 1:\n",
    "        df.drop(i, axis=1, inplace=True)"
   ]
  },
  {
   "cell_type": "markdown",
   "id": "59943fed",
   "metadata": {},
   "source": [
    "# 19. Drop the Job Description column"
   ]
  },
  {
   "cell_type": "code",
   "execution_count": 27,
   "id": "92c330ad",
   "metadata": {},
   "outputs": [],
   "source": [
    "df.drop('job_description', axis=1, inplace=True)"
   ]
  },
  {
   "cell_type": "markdown",
   "id": "5d9a223f",
   "metadata": {},
   "source": [
    "# 20. Check Duplicates"
   ]
  },
  {
   "cell_type": "code",
   "execution_count": 28,
   "id": "0e1e9484",
   "metadata": {},
   "outputs": [
    {
     "data": {
      "text/plain": [
       "31"
      ]
     },
     "execution_count": 28,
     "metadata": {},
     "output_type": "execute_result"
    }
   ],
   "source": [
    "df.duplicated().sum()"
   ]
  },
  {
   "cell_type": "markdown",
   "id": "d3274e53",
   "metadata": {},
   "source": [
    "# 21. Drop duplicates"
   ]
  },
  {
   "cell_type": "code",
   "execution_count": 29,
   "id": "bc48684c",
   "metadata": {},
   "outputs": [],
   "source": [
    "df.drop_duplicates(inplace = True)"
   ]
  },
  {
   "cell_type": "code",
   "execution_count": 30,
   "id": "43e316e2",
   "metadata": {},
   "outputs": [],
   "source": [
    "df.reset_index(inplace=True, drop=True)"
   ]
  },
  {
   "cell_type": "markdown",
   "id": "b5f3f5fd",
   "metadata": {},
   "source": [
    "# 22. Implement clustering for providing class to each company on the basis of employee count and linkedin followers"
   ]
  },
  {
   "cell_type": "code",
   "execution_count": 31,
   "id": "99c1a237",
   "metadata": {},
   "outputs": [],
   "source": [
    "data = df[['Name','Employee_count', 'LinkedIn_Followers']].copy()"
   ]
  },
  {
   "cell_type": "code",
   "execution_count": 32,
   "id": "17576a87",
   "metadata": {},
   "outputs": [],
   "source": [
    "data.drop_duplicates(inplace=True)"
   ]
  },
  {
   "cell_type": "code",
   "execution_count": 33,
   "id": "d0d66da2",
   "metadata": {},
   "outputs": [],
   "source": [
    "data.reset_index(inplace=True, drop=True)"
   ]
  },
  {
   "cell_type": "code",
   "execution_count": 34,
   "id": "87e6ef17",
   "metadata": {},
   "outputs": [],
   "source": [
    "X = data.drop(['Name'], axis=1)"
   ]
  },
  {
   "cell_type": "markdown",
   "id": "8ccd7697",
   "metadata": {},
   "source": [
    "## Feature Scaling"
   ]
  },
  {
   "cell_type": "code",
   "execution_count": 35,
   "id": "2448c857",
   "metadata": {},
   "outputs": [],
   "source": [
    "from sklearn.preprocessing import StandardScaler\n",
    "\n",
    "scaler = StandardScaler()"
   ]
  },
  {
   "cell_type": "code",
   "execution_count": 36,
   "id": "168b8ae8",
   "metadata": {},
   "outputs": [],
   "source": [
    "scaled_X = scaler.fit_transform(X)"
   ]
  },
  {
   "cell_type": "markdown",
   "id": "b21cd287",
   "metadata": {},
   "source": [
    "## k means clustering model"
   ]
  },
  {
   "cell_type": "code",
   "execution_count": 37,
   "id": "cf049894",
   "metadata": {},
   "outputs": [],
   "source": [
    "from sklearn.cluster import KMeans"
   ]
  },
  {
   "cell_type": "code",
   "execution_count": 38,
   "id": "6be21385",
   "metadata": {},
   "outputs": [],
   "source": [
    "model = KMeans(n_clusters=4)"
   ]
  },
  {
   "cell_type": "markdown",
   "id": "0fbae96e",
   "metadata": {},
   "source": [
    "## predict the class of each company"
   ]
  },
  {
   "cell_type": "code",
   "execution_count": 39,
   "id": "62dcbc28",
   "metadata": {},
   "outputs": [],
   "source": [
    "pred = model.fit_predict(scaled_X)"
   ]
  },
  {
   "cell_type": "code",
   "execution_count": 40,
   "id": "50dcd97c",
   "metadata": {},
   "outputs": [
    {
     "data": {
      "text/plain": [
       "array([0, 2, 1, 3, 1, 2, 2, 0, 3, 0, 2])"
      ]
     },
     "execution_count": 40,
     "metadata": {},
     "output_type": "execute_result"
    }
   ],
   "source": [
    "pred"
   ]
  },
  {
   "cell_type": "code",
   "execution_count": 41,
   "id": "db3f9206",
   "metadata": {},
   "outputs": [],
   "source": [
    "data['Class'] = pred"
   ]
  },
  {
   "cell_type": "markdown",
   "id": "a077dbba",
   "metadata": {},
   "source": [
    "## assign the class to each company"
   ]
  },
  {
   "cell_type": "code",
   "execution_count": 42,
   "id": "39c344ab",
   "metadata": {},
   "outputs": [],
   "source": [
    "data.loc[data['Class'] == 0, 'Class'] = 'Class 1'\n",
    "data.loc[data['Class'] == 1, 'Class'] = 'Class 2'\n",
    "data.loc[data['Class'] == 2, 'Class'] = 'Class 3'\n",
    "data.loc[data['Class'] == 3, 'Class'] = 'Class 4'"
   ]
  },
  {
   "cell_type": "code",
   "execution_count": 43,
   "id": "044fd5ad",
   "metadata": {},
   "outputs": [],
   "source": [
    "data.drop(['Employee_count', 'LinkedIn_Followers'], axis=1, inplace=True)"
   ]
  },
  {
   "cell_type": "markdown",
   "id": "0b7fd615",
   "metadata": {},
   "source": [
    "## merge the class of the company with the original dataframe"
   ]
  },
  {
   "cell_type": "code",
   "execution_count": 44,
   "id": "fb564f08",
   "metadata": {},
   "outputs": [],
   "source": [
    "df = pd.merge(data, df, how='inner', on='Name')"
   ]
  },
  {
   "cell_type": "markdown",
   "id": "ad26fa4f",
   "metadata": {},
   "source": [
    "# 23. Save the dataframe to csv file"
   ]
  },
  {
   "cell_type": "code",
   "execution_count": 45,
   "id": "61616fad",
   "metadata": {},
   "outputs": [],
   "source": [
    "df.to_csv('final_data.csv', index=False)"
   ]
  },
  {
   "cell_type": "markdown",
   "id": "2ec26415",
   "metadata": {},
   "source": [
    "# Thank You!"
   ]
  }
 ],
 "metadata": {
  "kernelspec": {
   "display_name": "Python 3 (ipykernel)",
   "language": "python",
   "name": "python3"
  },
  "language_info": {
   "codemirror_mode": {
    "name": "ipython",
    "version": 3
   },
   "file_extension": ".py",
   "mimetype": "text/x-python",
   "name": "python",
   "nbconvert_exporter": "python",
   "pygments_lexer": "ipython3",
   "version": "3.9.13"
  },
  "vscode": {
   "interpreter": {
    "hash": "5dc7edc3f07df1b868c95fe24b4a97e4b2126ae1d81d9983a42e417eba917386"
   }
  }
 },
 "nbformat": 4,
 "nbformat_minor": 5
}
